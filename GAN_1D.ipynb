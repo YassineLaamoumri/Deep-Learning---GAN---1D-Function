{
  "nbformat": 4,
  "nbformat_minor": 0,
  "metadata": {
    "colab": {
      "name": "GAN - 1D",
      "provenance": [],
      "collapsed_sections": [],
      "toc_visible": true
    },
    "kernelspec": {
      "display_name": "Python 3",
      "name": "python3"
    },
    "language_info": {
      "name": "python"
    },
    "accelerator": "GPU"
  },
  "cells": [
    {
      "cell_type": "code",
      "metadata": {
        "colab": {
          "base_uri": "https://localhost:8080/"
        },
        "id": "FA8ZuvJ_1Zkg",
        "outputId": "f08ee0b7-d5c3-4620-8737-ed853bf6dd42"
      },
      "source": [
        "import tensorflow as tf \n",
        "from tensorflow import keras\n",
        "from tensorflow.keras import layers\n",
        "import numpy as np\n",
        "import matplotlib.pyplot as plt\n",
        "!pip install celluloid\n",
        "from celluloid import Camera"
      ],
      "execution_count": null,
      "outputs": [
        {
          "output_type": "stream",
          "text": [
            "Requirement already satisfied: celluloid in /usr/local/lib/python3.7/dist-packages (0.2.0)\n",
            "Requirement already satisfied: matplotlib in /usr/local/lib/python3.7/dist-packages (from celluloid) (3.2.2)\n",
            "Requirement already satisfied: python-dateutil>=2.1 in /usr/local/lib/python3.7/dist-packages (from matplotlib->celluloid) (2.8.1)\n",
            "Requirement already satisfied: cycler>=0.10 in /usr/local/lib/python3.7/dist-packages (from matplotlib->celluloid) (0.10.0)\n",
            "Requirement already satisfied: kiwisolver>=1.0.1 in /usr/local/lib/python3.7/dist-packages (from matplotlib->celluloid) (1.3.1)\n",
            "Requirement already satisfied: pyparsing!=2.0.4,!=2.1.2,!=2.1.6,>=2.0.1 in /usr/local/lib/python3.7/dist-packages (from matplotlib->celluloid) (2.4.7)\n",
            "Requirement already satisfied: numpy>=1.11 in /usr/local/lib/python3.7/dist-packages (from matplotlib->celluloid) (1.19.5)\n",
            "Requirement already satisfied: six>=1.5 in /usr/local/lib/python3.7/dist-packages (from python-dateutil>=2.1->matplotlib->celluloid) (1.15.0)\n"
          ],
          "name": "stdout"
        }
      ]
    },
    {
      "cell_type": "code",
      "metadata": {
        "id": "pgHMedPS1ed3"
      },
      "source": [
        "# function to generate data points\n",
        "def normal_dist(x , mean , sd):\n",
        "    prob_density = (1/np.sqrt(2*np.pi*sd*sd)) * np.exp(-0.5*((x-mean)/sd)**2)\n",
        "    return prob_density\n",
        "\n",
        "def get_real_data(n):\n",
        "    # generate random numbers between range\n",
        "    x1 = np.random.uniform(low=-5, high=5, size=n)\n",
        "    #x2 = x1 * x1  \n",
        "    x2 = normal_dist(x1,0,1)\n",
        "    x1 = x1.reshape((n, 1))\n",
        "    x2 = x2.reshape((n, 1))\n",
        "    samples = np.hstack((x1, x2))\n",
        "    return samples"
      ],
      "execution_count": null,
      "outputs": []
    },
    {
      "cell_type": "code",
      "metadata": {
        "colab": {
          "base_uri": "https://localhost:8080/",
          "height": 265
        },
        "id": "FkCPbzBP1ekc",
        "outputId": "aeff8b0a-457e-4143-c5ae-aed400f6f35c"
      },
      "source": [
        "# get 100 data points\n",
        "data = get_real_data(100)\n",
        "\n",
        "# convert to float for dl model\n",
        "data = data.astype('float32')\n",
        "plt.scatter(data[:,0], data[:, 1])\n",
        "\n",
        "# convert your data into tensorflow data type.\n",
        "train_data = tf.data.Dataset.from_tensor_slices(data)\n",
        "train_data = train_data.batch(64).prefetch(32)"
      ],
      "execution_count": null,
      "outputs": [
        {
          "output_type": "display_data",
          "data": {
            "image/png": "[encoded data removed]",
            "text/plain": [
              "<Figure size 432x288 with 1 Axes>"
            ]
          },
          "metadata": {
            "tags": [],
            "needs_background": "light"
          }
        }
      ]
    },
    {
      "cell_type": "code",
      "metadata": {
        "colab": {
          "base_uri": "https://localhost:8080/"
        },
        "id": "8wHrN1Da1enG",
        "outputId": "7527e5ac-7516-4d30-be8c-595025e0a073"
      },
      "source": [
        "# discriminator model\n",
        "def build_discriminator(n=2):\n",
        "  inps = layers.Input(shape=(n,))\n",
        "  x = layers.Dense(25, activation='relu',\n",
        "                   kernel_initializer='he_uniform')(inps)\n",
        "  outs = layers.Dense(1)(x)\n",
        "  model = keras.Model(inps, outs, name='discriminator')\n",
        "  return model\n",
        "# generator model\n",
        "def build_generator(latent_dim=5):\n",
        "  inps = layers.Input(shape=(latent_dim,))\n",
        "  x = layers.Dense(25, activation='relu',\n",
        "                   kernel_initializer='he_uniform')(inps)\n",
        "  outs = layers.Dense(2, activation='linear')(x)\n",
        "  model = keras.Model(inps, outs, name='generator')\n",
        "  return model\n",
        "discriminator = build_discriminator()\n",
        "generator = build_generator()\n",
        "print(discriminator.summary(), generator.summary())"
      ],
      "execution_count": null,
      "outputs": [
        {
          "output_type": "stream",
          "text": [
            "Model: \"discriminator\"\n",
            "_________________________________________________________________\n",
            "Layer (type)                 Output Shape              Param #   \n",
            "=================================================================\n",
            "input_1 (InputLayer)         [(None, 2)]               0         \n",
            "_________________________________________________________________\n",
            "dense (Dense)                (None, 25)                75        \n",
            "_________________________________________________________________\n",
            "dense_1 (Dense)              (None, 1)                 26        \n",
            "=================================================================\n",
            "Total params: 101\n",
            "Trainable params: 101\n",
            "Non-trainable params: 0\n",
            "_________________________________________________________________\n",
            "Model: \"generator\"\n",
            "_________________________________________________________________\n",
            "Layer (type)                 Output Shape              Param #   \n",
            "=================================================================\n",
            "input_2 (InputLayer)         [(None, 5)]               0         \n",
            "_________________________________________________________________\n",
            "dense_2 (Dense)              (None, 25)                150       \n",
            "_________________________________________________________________\n",
            "dense_3 (Dense)              (None, 2)                 52        \n",
            "=================================================================\n",
            "Total params: 202\n",
            "Trainable params: 202\n",
            "Non-trainable params: 0\n",
            "_________________________________________________________________\n",
            "None None\n"
          ],
          "name": "stdout"
        }
      ]
    },
    {
      "cell_type": "code",
      "metadata": {
        "id": "KxOY0pS-1epX"
      },
      "source": [
        "class GAN(keras.Model):\n",
        "    \n",
        "  # initialize models with latent dimensions\n",
        "  def __init__(self, disc, gen, latent_dim=5):\n",
        "    super(GAN, self).__init__()\n",
        "    self.discriminator = disc\n",
        "    self.generator = gen\n",
        "    self.latent_dim = latent_dim\n",
        "  \n",
        "  # compile with optimizers and loss function\n",
        "  def compile(self, optD, optG, loss_fn):\n",
        "    super(GAN, self).compile()\n",
        "    self.optD = optD\n",
        "    self.optG = optG\n",
        "    self.loss_fn = loss_fn\n",
        "    \n",
        "  # custom training function\n",
        "  def train_step(self, real_data):\n",
        "    if isinstance(real_data, tuple):\n",
        "      real_data = real_data[0]\n",
        "    \n",
        "    # get current batch size\n",
        "    bs = tf.shape(real_data)[0]\n",
        "    z = tf.random.normal(shape=(bs, self.latent_dim))\n",
        "    fake_data = self.generator(z)\n",
        "    \n",
        "    # combine real and fake images in a single vector along with their labels\n",
        "    combined_data = tf.concat([real_data, fake_data], axis=0)\n",
        "    labels = tf.concat([tf.ones((bs, 1)), tf.zeros((bs, 1))], axis=0)\n",
        "    \n",
        "    # train your discriminator\n",
        "    with tf.GradientTape() as tape:\n",
        "      preds = self.discriminator(combined_data)\n",
        "      d_loss = self.loss_fn(labels, preds)\n",
        "    grads = tape.gradient(d_loss, self.discriminator.trainable_weights)\n",
        "    self.optD.apply_gradients(zip(grads, self.discriminator.trainable_weights))\n",
        "    \n",
        "    # misleading labels for generator\n",
        "    misleading_labels = tf.ones((bs, 1))\n",
        "    z = tf.random.normal(shape=(bs, self.latent_dim))\n",
        "    \n",
        "    # train your generator\n",
        "    with tf.GradientTape() as tape:\n",
        "      fake_preds = self.discriminator(self.generator(z))\n",
        "      g_loss = self.loss_fn(misleading_labels, fake_preds)\n",
        "    grads = tape.gradient(g_loss, self.generator.trainable_weights)\n",
        "    self.optG.apply_gradients(zip(grads, self.generator.trainable_weights))\n",
        "    return {\"d_loss\": d_loss, \"g_loss\": g_loss}\n",
        "# create GAN model using already built D and G\n",
        "gan = GAN(discriminator, generator)\n",
        "# compile your model with loss and optimizers\n",
        "gan.compile(\n",
        "    keras.optimizers.Adam(),\n",
        "    keras.optimizers.Adam(),\n",
        "    keras.losses.BinaryCrossentropy(from_logits=True)\n",
        ")"
      ],
      "execution_count": null,
      "outputs": []
    },
    {
      "cell_type": "code",
      "metadata": {
        "id": "TEAOawcy1er3"
      },
      "source": [
        "# def extract(lst,epoch):\n",
        "#     for item in lst:\n",
        "#       return lst[epoch][0]\n",
        "\n",
        "# def show_samples(epoch, generator, discriminator, data, n=100, l_dim=5):\n",
        "#   # save results after every 20 epochs  \n",
        "#   if epoch % 20 == 0:\n",
        "#     z = tf.random.normal(shape=(n, l_dim))\n",
        "#     generated_data = generator(z)\n",
        "#     discriminator_confidence = discriminator(generated_data)\n",
        "#     generated_data_np = generated_data.numpy()\n",
        "#     generated_points_list.append(generated_data)\n",
        "#     decision_boundary.append((extract(generated_data_np,epoch),discriminator_confidence))\n",
        "\n",
        "# # list for storing generated points\n",
        "# generated_points_list = []\n",
        "\n",
        "# decision_boundary = []\n",
        "\n",
        "# # a lambda callback\n",
        "# cbk = keras.callbacks.LambdaCallback(on_epoch_end=lambda epoch,logs: show_samples(epoch, gan.generator, gan.discriminator, data))\n"
      ],
      "execution_count": null,
      "outputs": []
    },
    {
      "cell_type": "code",
      "metadata": {
        "id": "wXpmt00LfI5B"
      },
      "source": [
        "epochs= []\n",
        "\n",
        "def show_samples(epoch, generator, discriminator, data, n=100, l_dim=5):\n",
        "  \n",
        "  \n",
        "  if epoch % 20 == 0:\n",
        "    z = tf.random.normal(shape=(n, l_dim))\n",
        "    generated_data = generator(z)\n",
        "    generated_points_list.append(generated_data)\n",
        "\n",
        "    confidence = np.asarray(discriminator(generated_data))\n",
        "    #x = np.asarray(generated_points_list[epoch][:,0])\n",
        "    flat_list = []\n",
        "    for sublist in confidence:\n",
        "        for item in sublist:\n",
        "            flat_list.append(item)\n",
        "    confidence=flat_list\n",
        "    \n",
        "\n",
        "    for i in range (len(z)):\n",
        "      decision_boundary.append((confidence[i],z[i]))\n",
        "    \n",
        "\n",
        "\n",
        "    \n",
        "# list for storing generated points\n",
        "generated_points_list = []    \n",
        "\n",
        "decision_boundary = []\n",
        "\n",
        "# a lambda callback\n",
        "cbk = keras.callbacks.LambdaCallback(on_epoch_end=lambda epoch,logs: show_samples(epoch, gan.generator, gan.discriminator, data))\n"
      ],
      "execution_count": null,
      "outputs": []
    },
    {
      "cell_type": "code",
      "metadata": {
        "id": "kmtJy2Ddnz3t"
      },
      "source": [
        "def show_samples(epoch, generator, data, n=100, l_dim=5):\n",
        "  # save results after every 20 epochs  \n",
        "  if epoch % 20 == 0:\n",
        "    z = tf.random.normal(shape=(n, l_dim))\n",
        "    generated_data = generator(z)\n",
        "    generated_points_list.append(generated_data)\n",
        "\n",
        "# list for storing generated points\n",
        "generated_points_list = []\n",
        "# a lambda callback\n",
        "cbk = keras.callbacks.LambdaCallback(on_epoch_end=lambda epoch,logs: show_samples(epoch, gan.generator, data))\n"
      ],
      "execution_count": null,
      "outputs": []
    },
    {
      "cell_type": "code",
      "metadata": {
        "id": "tGp44dg3C6mJ"
      },
      "source": [
        "# %time hist = gan.fit(train_data, epochs=50, callbacks=[cbk], verbose=False)"
      ],
      "execution_count": null,
      "outputs": []
    },
    {
      "cell_type": "code",
      "metadata": {
        "id": "blnoHYGWf9-h"
      },
      "source": [
        "# print(len(generated_points_list),len(decision_boundary))\n",
        "# print(epochs)\n",
        "# for e in epochs:\n",
        "#   print(np.array(generated_points_list[e][:,0]))\n",
        "#print(generated_points_list)\n",
        "\n",
        "\n",
        "# print(decision_boundary)\n",
        "# [i[0] for i in decision_boundary]\n",
        "# print(decision_boundary[0][1])\n"
      ],
      "execution_count": null,
      "outputs": []
    },
    {
      "cell_type": "code",
      "metadata": {
        "colab": {
          "base_uri": "https://localhost:8080/",
          "height": 661
        },
        "id": "VfojShrc1exp",
        "outputId": "5627a874-67f8-4267-efd9-f41c01b1097e"
      },
      "source": [
        "# time your training\n",
        "%time hist = gan.fit(train_data, epochs=500, callbacks=[cbk], verbose=False)\n",
        "'''\n",
        "this will almost take 40-50 seconds but you can turn on the verbose and see progress along the way\n",
        "'''\n",
        "# plot the results\n",
        "plt.figure(figsize=(15,10))\n",
        "plt.plot(hist.history['d_loss'], color='blue', label='disriminator loss')\n",
        "plt.plot(hist.history['g_loss'], color='red', label='generator loss')\n",
        "plt.xlabel('Epochs')\n",
        "plt.ylabel('Losses')\n",
        "plt.ylim([0,2])\n",
        "plt.legend()"
      ],
      "execution_count": null,
      "outputs": [
        {
          "output_type": "stream",
          "text": [
            "CPU times: user 5.02 s, sys: 615 ms, total: 5.64 s\n",
            "Wall time: 7.05 s\n"
          ],
          "name": "stdout"
        },
        {
          "output_type": "execute_result",
          "data": {
            "text/plain": [
              "<matplotlib.legend.Legend at 0x7f45f0049b90>"
            ]
          },
          "metadata": {
            "tags": []
          },
          "execution_count": 11
        },
        {
          "output_type": "display_data",
          "data": {
            "image/png": "[encoded data removed]",
            "text/plain": [
              "<Figure size 1080x720 with 1 Axes>"
            ]
          },
          "metadata": {
            "tags": [],
            "needs_background": "light"
          }
        }
      ]
    },
    {
      "cell_type": "code",
      "metadata": {
        "id": "1cOtaWnw1qyx"
      },
      "source": [
        "# get real data to show with fake data\n",
        "real_x, real_y  = data[:, 0], data[:, 1]\n",
        "camera = Camera(plt.figure())\n",
        "plt.xlim(real_x.min()-5, real_x.max()+5)\n",
        "plt.ylim(real_y.min()-0, real_y.max()+0.05)\n",
        "for i in range(len(generated_points_list)):\n",
        "  plt.scatter(real_x, real_y, color='blue')\n",
        "  fake_x, fake_y = generated_points_list[i][:, 0], generated_points_list[i][:, 1]\n",
        "  plt.scatter(fake_x, fake_y, color='red')\n",
        "  plt.legend( [f'Époque {i*20}'])\n",
        "  camera.snap()\n",
        "anim = camera.animate(blit=True)\n",
        "plt.close()\n",
        "# anim.save('animation.gif', fps=2)\n",
        "anim.save('animation.mp4', fps=10)"
      ],
      "execution_count": null,
      "outputs": []
    },
    {
      "cell_type": "code",
      "metadata": {
        "colab": {
          "base_uri": "https://localhost:8080/",
          "height": 34
        },
        "id": "vrX_OMMHq7wv",
        "outputId": "01035f48-c80b-4f81-a02d-e9f053759e02"
      },
      "source": [
        "camera = Camera(plt.figure())\n",
        "for i in range(len(decision_boundary)):\n",
        "  d_x, d_y = [e[0] for e in decision_boundary], [e[1] for e in decision_boundary]\n",
        "  print(d_x, d_y)\n",
        "#   plt.scatter(d_x, d_y, color='grey')\n",
        "#   plt.legend( [f'Époque {i*20}'])\n",
        "#   camera.snap()\n",
        "# anim = camera.animate(blit=True)\n",
        "# plt.close()\n",
        "# # anim.save('animation.gif', fps=2)\n",
        "# anim.save('animation1.mp4', fps=10)"
      ],
      "execution_count": null,
      "outputs": [
        {
          "output_type": "display_data",
          "data": {
            "text/plain": [
              "<Figure size 432x288 with 0 Axes>"
            ]
          },
          "metadata": {
            "tags": []
          }
        }
      ]
    }
  ]
}